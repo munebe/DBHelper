{
 "cells": [
  {
   "cell_type": "code",
   "execution_count": 5,
   "metadata": {},
   "outputs": [],
   "source": [
    "\n",
    "from Connectors.MsSqlConnector import MsSqlConnector\n",
    "import pandas as pd\n",
    "import datetime\n",
    "\n",
    "\n",
    "conn = MsSqlConnector(server='192.168.1.185', user='sa',\n",
    "                      password='qwer1234.', database='test', port=1433)\n",
    "\n",
    "\n",
    "df = pd.DataFrame({'string_field': ['string1', 'string2', 'string3'],\n",
    "                   'int_field': [1, 2, 3],\n",
    "                   'float_field': [1.1, 2.2, 3.3],\n",
    "                   'date_field': [datetime.datetime(2021, 1, 1), datetime.datetime(2021, 1, 2), datetime.datetime(2021, 1, 3)],\n",
    "                   'datetime_field': [datetime.datetime(2021, 1, 1, 1, 1, 1), datetime.datetime(2021, 1, 2, 2, 2, 2), datetime.datetime(2021, 1, 3, 3, 3, 3)],\n",
    "                   'bool_field': [True, False, True]\n",
    "                   })\n"
   ]
  },
  {
   "cell_type": "code",
   "execution_count": 11,
   "metadata": {},
   "outputs": [],
   "source": [
    "res=conn.query_to_df('select * from test_table')"
   ]
  },
  {
   "cell_type": "code",
   "execution_count": 14,
   "metadata": {},
   "outputs": [
    {
     "data": {
      "text/plain": [
       "'Query failed: Shape of passed values is (3, 1), indices imply (3, 7)'"
      ]
     },
     "execution_count": 14,
     "metadata": {},
     "output_type": "execute_result"
    }
   ],
   "source": [
    "res.message"
   ]
  },
  {
   "cell_type": "code",
   "execution_count": 4,
   "metadata": {},
   "outputs": [
    {
     "data": {
      "text/plain": [
       "3"
      ]
     },
     "execution_count": 4,
     "metadata": {},
     "output_type": "execute_result"
    }
   ],
   "source": [
    "a.data"
   ]
  },
  {
   "cell_type": "code",
   "execution_count": null,
   "metadata": {},
   "outputs": [],
   "source": []
  }
 ],
 "metadata": {
  "kernelspec": {
   "display_name": ".venv",
   "language": "python",
   "name": "python3"
  },
  "language_info": {
   "codemirror_mode": {
    "name": "ipython",
    "version": 3
   },
   "file_extension": ".py",
   "mimetype": "text/x-python",
   "name": "python",
   "nbconvert_exporter": "python",
   "pygments_lexer": "ipython3",
   "version": "3.10.11"
  }
 },
 "nbformat": 4,
 "nbformat_minor": 2
}
